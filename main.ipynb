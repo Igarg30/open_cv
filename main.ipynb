{
 "cells": [
  {
   "cell_type": "markdown",
   "id": "3b9d6c68",
   "metadata": {},
   "source": [
    "# Blue line"
   ]
  },
  {
   "cell_type": "code",
   "execution_count": 2,
   "id": "e587a96c",
   "metadata": {},
   "outputs": [
    {
     "name": "stdout",
     "output_type": "stream",
     "text": [
      "(400, 600)\n",
      "[[0 0 0 ... 0 0 0]\n",
      " [0 0 0 ... 0 0 0]\n",
      " [0 0 0 ... 0 0 0]\n",
      " ...\n",
      " [0 0 0 ... 0 0 0]\n",
      " [0 0 0 ... 0 0 0]\n",
      " [0 0 0 ... 0 0 0]]\n"
     ]
    }
   ],
   "source": [
    "import cv2\n",
    "import numpy as np\n",
    "\n",
    "\n",
    "path=r\"\"\"C:\\Users\\igarg\\Desktop\\images\\blue line.jpg\"\"\"\n",
    "\n",
    "\n",
    "img = cv2.imread(path)\n",
    "\n",
    "hsv = cv2.cvtColor(img, cv2.COLOR_BGR2HSV)\n",
    "\n",
    "\n",
    "#Red color rangle  169, 100, 100 , 189, 255, 255\n",
    "\n",
    "\n",
    "lower_range = np.array([94,80,2])\n",
    "upper_range = np.array([126,255,255])\n",
    "\n",
    "mask = cv2.inRange(hsv, lower_range, upper_range)\n",
    "mask=cv2.resize(mask,(600,400))\n",
    "img=cv2.resize(img,(600,400))\n",
    "cv2.imshow('image', img)\n",
    "cv2.imshow('mask', mask)\n",
    "print(mask.shape)\n",
    "print(mask)\n",
    "\n",
    "\n",
    "cv2.waitKey()\n",
    "cv2.destroyAllWindows()"
   ]
  },
  {
   "cell_type": "markdown",
   "id": "615dea3b",
   "metadata": {},
   "source": [
    "# Green color"
   ]
  },
  {
   "cell_type": "code",
   "execution_count": 3,
   "id": "e5ed450d",
   "metadata": {},
   "outputs": [
    {
     "ename": "error",
     "evalue": "OpenCV(4.5.5) D:\\a\\opencv-python\\opencv-python\\opencv\\modules\\highgui\\src\\window.cpp:1268: error: (-2:Unspecified error) The function is not implemented. Rebuild the library with Windows, GTK+ 2.x or Cocoa support. If you are on Ubuntu or Debian, install libgtk2.0-dev and pkg-config, then re-run cmake or configure script in function 'cvShowImage'\n",
     "output_type": "error",
     "traceback": [
      "\u001b[1;31m---------------------------------------------------------------------------\u001b[0m",
      "\u001b[1;31merror\u001b[0m                                     Traceback (most recent call last)",
      "\u001b[1;32m~\\AppData\\Local\\Temp/ipykernel_4032/1032695688.py\u001b[0m in \u001b[0;36m<module>\u001b[1;34m\u001b[0m\n\u001b[0;32m     20\u001b[0m \u001b[0mmask\u001b[0m\u001b[1;33m=\u001b[0m\u001b[0mcv2\u001b[0m\u001b[1;33m.\u001b[0m\u001b[0mresize\u001b[0m\u001b[1;33m(\u001b[0m\u001b[0mmask\u001b[0m\u001b[1;33m,\u001b[0m\u001b[1;33m(\u001b[0m\u001b[1;36m600\u001b[0m\u001b[1;33m,\u001b[0m\u001b[1;36m400\u001b[0m\u001b[1;33m)\u001b[0m\u001b[1;33m)\u001b[0m\u001b[1;33m\u001b[0m\u001b[1;33m\u001b[0m\u001b[0m\n\u001b[0;32m     21\u001b[0m \u001b[0mimg\u001b[0m\u001b[1;33m=\u001b[0m\u001b[0mcv2\u001b[0m\u001b[1;33m.\u001b[0m\u001b[0mresize\u001b[0m\u001b[1;33m(\u001b[0m\u001b[0mimg\u001b[0m\u001b[1;33m,\u001b[0m\u001b[1;33m(\u001b[0m\u001b[1;36m600\u001b[0m\u001b[1;33m,\u001b[0m\u001b[1;36m400\u001b[0m\u001b[1;33m)\u001b[0m\u001b[1;33m)\u001b[0m\u001b[1;33m\u001b[0m\u001b[1;33m\u001b[0m\u001b[0m\n\u001b[1;32m---> 22\u001b[1;33m \u001b[0mcv2\u001b[0m\u001b[1;33m.\u001b[0m\u001b[0mimshow\u001b[0m\u001b[1;33m(\u001b[0m\u001b[1;34m'image'\u001b[0m\u001b[1;33m,\u001b[0m \u001b[0mimg\u001b[0m\u001b[1;33m)\u001b[0m\u001b[1;33m\u001b[0m\u001b[1;33m\u001b[0m\u001b[0m\n\u001b[0m\u001b[0;32m     23\u001b[0m \u001b[0mcv2\u001b[0m\u001b[1;33m.\u001b[0m\u001b[0mimshow\u001b[0m\u001b[1;33m(\u001b[0m\u001b[1;34m'mask'\u001b[0m\u001b[1;33m,\u001b[0m \u001b[0mmask\u001b[0m\u001b[1;33m)\u001b[0m\u001b[1;33m\u001b[0m\u001b[1;33m\u001b[0m\u001b[0m\n\u001b[0;32m     24\u001b[0m \u001b[1;33m\u001b[0m\u001b[0m\n",
      "\u001b[1;31merror\u001b[0m: OpenCV(4.5.5) D:\\a\\opencv-python\\opencv-python\\opencv\\modules\\highgui\\src\\window.cpp:1268: error: (-2:Unspecified error) The function is not implemented. Rebuild the library with Windows, GTK+ 2.x or Cocoa support. If you are on Ubuntu or Debian, install libgtk2.0-dev and pkg-config, then re-run cmake or configure script in function 'cvShowImage'\n"
     ]
    }
   ],
   "source": [
    "import cv2\n",
    "import numpy as np\n",
    "\n",
    "\n",
    "path=r\"\"\"C:\\Users\\igarg\\Desktop\\images\\green line.jpg\"\"\"\n",
    "\n",
    "\n",
    "img = cv2.imread(path)\n",
    "\n",
    "hsv = cv2.cvtColor(img, cv2.COLOR_BGR2HSV)\n",
    "\n",
    "\n",
    "#Red color rangle  169, 100, 100 , 189, 255, 255\n",
    "\n",
    "\n",
    "lower_range = np.array([25,52,72])\n",
    "upper_range = np.array([102,255,255])\n",
    "\n",
    "mask = cv2.inRange(hsv, lower_range, upper_range)\n",
    "mask=cv2.resize(mask,(600,400))\n",
    "img=cv2.resize(img,(600,400))\n",
    "cv2.imshow('image', img)\n",
    "cv2.imshow('mask', mask)\n",
    "\n",
    "print(mask.shape)\n",
    "print(mask)\n",
    "\n",
    "cv2.waitKey(0)\n",
    "cv2.destroyAllWindows()"
   ]
  },
  {
   "cell_type": "markdown",
   "id": "008aa06b",
   "metadata": {},
   "source": [
    "# Blue and Yellow"
   ]
  },
  {
   "cell_type": "code",
   "execution_count": null,
   "id": "fe0f61b5",
   "metadata": {},
   "outputs": [],
   "source": [
    "import cv2\n",
    "import numpy as np\n",
    "\n",
    "\n",
    "path=r\"\"\"C:\\Users\\igarg\\Desktop\\images\\yellow and blue.jpg\"\"\"\n",
    "\n",
    "\n",
    "img = cv2.imread(path)\n",
    "\n",
    "hsv = cv2.cvtColor(img, cv2.COLOR_BGR2HSV)\n",
    "\n",
    "\n",
    "#Red color rangle  169, 100, 100 , 189, 255, 255\n",
    "\n",
    "\n",
    "lower_range_blue = np.array([94,80,2])\n",
    "upper_range_blue = np.array([126,255,255])\n",
    "\n",
    "lower_range_Yellow = np.array([25,50,70])\n",
    "upper_range_Yellow = np.array([35,255,255])\n",
    "\n",
    "mask = cv2.inRange(hsv, lower_range_blue, upper_range_blue)\n",
    "#mask = cv2.inRange(hsv, lower_range_Yellow, upper_range_Yellow)\n",
    "\n",
    "mask=cv2.resize(mask,(600,400))\n",
    "img=cv2.resize(img,(600,400))\n",
    "cv2.imshow('image', img)\n",
    "cv2.imshow('mask', mask)\n",
    "\n",
    "print(mask.shape)\n",
    "print(mask)\n",
    "\n",
    "cv2.waitKey(0)\n",
    "cv2.destroyAllWindows()"
   ]
  }
 ],
 "metadata": {
  "kernelspec": {
   "display_name": "Python 3 (ipykernel)",
   "language": "python",
   "name": "python3"
  },
  "language_info": {
   "codemirror_mode": {
    "name": "ipython",
    "version": 3
   },
   "file_extension": ".py",
   "mimetype": "text/x-python",
   "name": "python",
   "nbconvert_exporter": "python",
   "pygments_lexer": "ipython3",
   "version": "3.8.12"
  }
 },
 "nbformat": 4,
 "nbformat_minor": 5
}
